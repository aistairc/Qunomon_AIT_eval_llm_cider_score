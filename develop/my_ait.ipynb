{
 "cells": [
  {
   "cell_type": "markdown",
   "metadata": {
    "deletable": false,
    "editable": false
   },
   "source": [
    "# AIT Development notebook"
   ]
  },
  {
   "cell_type": "markdown",
   "metadata": {
    "deletable": false,
    "editable": false
   },
   "source": [
    "## notebook of structure"
   ]
  },
  {
   "cell_type": "markdown",
   "metadata": {
    "deletable": false,
    "editable": false
   },
   "source": [
    "| #  | Name                                               | cells | for_dev | edit               | description                                                                |\n",
    "|----|----------------------------------------------------|-------|---------|--------------------|----------------------------------------------------------------------------|\n",
    "| 1  | [Environment detection](##1-Environment-detection) | 1     | No      | uneditable         | detect whether the notebook are invoked for packaging or in production     |\n",
    "| 2  | [Preparing AIT SDK](##2-Preparing-AIT-SDK)         | 1     | Yes     | uneditable         | download and install AIT SDK                                               |\n",
    "| 3  | [Dependency Management](##3-Dependency-Management) | 3     | Yes     | required(cell #2)  | generate requirements.txt for Docker container                             |\n",
    "| 4  | [Importing Libraries](##4-Importing-Libraries)     | 2     | Yes     | required(cell #1)  | import required libraries                                                  |\n",
    "| 5  | [Manifest Generation](##5-Manifest-Generation)     | 1     | Yes     | required           | generate AIT Manifest                                                      |\n",
    "| 6  | [Prepare for the Input](##6-Prepare-for-the-Input) | 1     | Yes     | required           | generate AIT Input JSON (inventory mapper)                                 |\n",
    "| 7  | [Initialization](##7-Initialization)               | 1     | No      | uneditable         | initialization for AIT execution                                           |\n",
    "| 8  | [Function definitions](##8-Function-definitions)   | N     | No      | required           | define functions invoked from Main area.<br> also define output functions. |\n",
    "| 9  | [Main Algorithms](##9-Main-Algorithms)             | 1     | No      | required           | area for main algorithms of an AIT                                         |\n",
    "| 10 | [Entry point](##10-Entry-point)                    | 1     | No      | uneditable         | an entry point where Qunomon invoke this AIT from here                     |\n",
    "| 11 | [License](##11-License)                            | 1     | Yes     | required           | generate license information                                               |\n",
    "| 12 | [Deployment](##12-Deployment)                      | 1     | Yes     | uneditable         | convert this notebook to the python file for packaging purpose             |"
   ]
  },
  {
   "cell_type": "markdown",
   "metadata": {
    "deletable": false,
    "editable": false
   },
   "source": [
    "## notebook template revision history"
   ]
  },
  {
   "cell_type": "markdown",
   "metadata": {
    "deletable": false,
    "editable": false
   },
   "source": [
    "1.0.1 2020/10/21\n",
    "\n",
    "* add revision history\n",
    "* separate `create requirements and pip install` editable and noeditable\n",
    "* separate `import` editable and noeditable\n",
    "\n",
    "1.0.0 2020/10/12\n",
    "\n",
    "* new cerarion"
   ]
  },
  {
   "cell_type": "markdown",
   "metadata": {
    "deletable": false,
    "editable": false
   },
   "source": [
    "## body"
   ]
  },
  {
   "cell_type": "markdown",
   "metadata": {
    "deletable": false,
    "editable": false
   },
   "source": [
    "### #1 Environment detection"
   ]
  },
  {
   "cell_type": "markdown",
   "metadata": {
    "deletable": false,
    "editable": false
   },
   "source": [
    "[uneditable]"
   ]
  },
  {
   "cell_type": "code",
   "execution_count": 1,
   "metadata": {
    "deletable": false,
    "editable": false
   },
   "outputs": [],
   "source": [
    "# Determine whether to start AIT or jupyter by startup argument\n",
    "import sys\n",
    "is_ait_launch = (len(sys.argv) == 2)"
   ]
  },
  {
   "cell_type": "markdown",
   "metadata": {
    "deletable": false,
    "editable": false
   },
   "source": [
    "### #2 Preparing AIT SDK"
   ]
  },
  {
   "cell_type": "markdown",
   "metadata": {
    "deletable": false,
    "editable": false
   },
   "source": [
    "[uneditable]"
   ]
  },
  {
   "cell_type": "code",
   "execution_count": 2,
   "metadata": {
    "deletable": false,
    "editable": false
   },
   "outputs": [
    {
     "name": "stdout",
     "output_type": "stream",
     "text": [
      "\u001b[33mWARNING: Running pip as the 'root' user can result in broken permissions and conflicting behaviour with the system package manager, possibly rendering your system unusable.It is recommended to use a virtual environment instead: https://pip.pypa.io/warnings/venv. Use the --root-user-action option if you know what you are doing and want to suppress this warning.\u001b[0m\u001b[33m\n",
      "\u001b[0m\u001b[33mWARNING: Running pip as the 'root' user can result in broken permissions and conflicting behaviour with the system package manager, possibly rendering your system unusable.It is recommended to use a virtual environment instead: https://pip.pypa.io/warnings/venv. Use the --root-user-action option if you know what you are doing and want to suppress this warning.\u001b[0m\u001b[33m\n",
      "\u001b[0m"
     ]
    }
   ],
   "source": [
    "if not is_ait_launch:\n",
    "    # get ait-sdk file name\n",
    "    from pathlib import Path\n",
    "    from glob import glob\n",
    "    import re\n",
    "    import os\n",
    "\n",
    "    current_dir = %pwd\n",
    "\n",
    "    ait_sdk_path = \"./ait_sdk-*-py3-none-any.whl\"\n",
    "    ait_sdk_list = glob(ait_sdk_path)\n",
    "    ait_sdk_name = os.path.basename(ait_sdk_list[-1])\n",
    "\n",
    "    # install ait-sdk\n",
    "    !pip install -q --upgrade pip\n",
    "    !pip install -q --no-deps --force-reinstall ./$ait_sdk_name"
   ]
  },
  {
   "cell_type": "markdown",
   "metadata": {
    "deletable": false,
    "editable": false
   },
   "source": [
    "### #3 Dependency Management"
   ]
  },
  {
   "cell_type": "markdown",
   "metadata": {
    "deletable": false,
    "editable": false
   },
   "source": [
    "#### #3-1 [uneditable]"
   ]
  },
  {
   "cell_type": "code",
   "execution_count": 3,
   "metadata": {
    "deletable": false,
    "editable": false
   },
   "outputs": [],
   "source": [
    "if not is_ait_launch:\n",
    "    from ait_sdk.common.files.ait_requirements_generator import AITRequirementsGenerator\n",
    "    requirements_generator = AITRequirementsGenerator()"
   ]
  },
  {
   "cell_type": "markdown",
   "metadata": {
    "deletable": false,
    "editable": false
   },
   "source": [
    "#### #3-2 [required]"
   ]
  },
  {
   "cell_type": "code",
   "execution_count": 4,
   "metadata": {},
   "outputs": [],
   "source": [
    "if not is_ait_launch:\n",
    "    requirements_generator.add_package('pandas', '2.2.3')\n",
    "    requirements_generator.add_package('evaluate', '0.4.3')\n",
    "    requirements_generator.add_package('transformers', '4.46.3')\n",
    "    requirements_generator.add_package('pycocoevalcap', '1.2')\n",
    "    requirements_generator.add_package('ipywidgets', '8.1.5')\n",
    "    requirements_generator.add_package('torch', '2.5.1')\n",
    "    requirements_generator.add_package('torchvision', '0.20.1')\n",
    "    requirements_generator.add_package('torchaudio', '2.5.1')"
   ]
  },
  {
   "cell_type": "markdown",
   "metadata": {
    "deletable": false,
    "editable": false
   },
   "source": [
    "#### #3-3 [uneditable]"
   ]
  },
  {
   "cell_type": "code",
   "execution_count": 5,
   "metadata": {
    "deletable": false,
    "editable": false
   },
   "outputs": [
    {
     "name": "stdout",
     "output_type": "stream",
     "text": [
      "\u001b[33mWARNING: Running pip as the 'root' user can result in broken permissions and conflicting behaviour with the system package manager, possibly rendering your system unusable.It is recommended to use a virtual environment instead: https://pip.pypa.io/warnings/venv. Use the --root-user-action option if you know what you are doing and want to suppress this warning.\u001b[0m\u001b[33m\n",
      "\u001b[0m"
     ]
    }
   ],
   "source": [
    "if not is_ait_launch:\n",
    "    requirements_generator.add_package(f'./{ait_sdk_name}')\n",
    "    requirements_path = requirements_generator.create_requirements(current_dir)\n",
    "\n",
    "    !pip install -q -r $requirements_path "
   ]
  },
  {
   "cell_type": "markdown",
   "metadata": {
    "deletable": false,
    "editable": false
   },
   "source": [
    "### #4 Importing Libraries"
   ]
  },
  {
   "cell_type": "markdown",
   "metadata": {
    "deletable": false,
    "editable": false
   },
   "source": [
    "#### #4-1 [required]"
   ]
  },
  {
   "cell_type": "code",
   "execution_count": 6,
   "metadata": {},
   "outputs": [],
   "source": [
    "import os\n",
    "import json\n",
    "import pandas as pd\n",
    "from transformers import AutoTokenizer, AutoModelForSeq2SeqLM, pipeline\n",
    "from nltk.tokenize import word_tokenize\n",
    "from pycocoevalcap.cider.cider import Cider\n",
    "import torch"
   ]
  },
  {
   "cell_type": "markdown",
   "metadata": {
    "deletable": false,
    "editable": false
   },
   "source": [
    "#### #4-2 [uneditable]"
   ]
  },
  {
   "cell_type": "code",
   "execution_count": 7,
   "metadata": {
    "deletable": false,
    "editable": false
   },
   "outputs": [],
   "source": [
    "# must use modules\n",
    "from os import path\n",
    "import shutil  # do not remove\n",
    "from ait_sdk.common.files.ait_input import AITInput  # do not remove\n",
    "from ait_sdk.common.files.ait_output import AITOutput  # do not remove\n",
    "from ait_sdk.common.files.ait_manifest import AITManifest  # do not remove\n",
    "from ait_sdk.develop.ait_path_helper import AITPathHelper  # do not remove\n",
    "from ait_sdk.utils.logging import get_logger, log, get_log_path  # do not remove\n",
    "from ait_sdk.develop.annotation import measures, resources, downloads, ait_main  # do not remove\n",
    "# must use modules"
   ]
  },
  {
   "cell_type": "markdown",
   "metadata": {
    "deletable": false,
    "editable": false
   },
   "source": [
    "### #5 Manifest Generation"
   ]
  },
  {
   "cell_type": "markdown",
   "metadata": {
    "deletable": false,
    "editable": false
   },
   "source": [
    "[required]"
   ]
  },
  {
   "cell_type": "code",
   "execution_count": 8,
   "metadata": {},
   "outputs": [],
   "source": [
    "if not is_ait_launch:\n",
    "    from ait_sdk.common.files.ait_manifest_generator import AITManifestGenerator\n",
    "    manifest_genenerator = AITManifestGenerator(current_dir)\n",
    "    manifest_genenerator.set_ait_name('eval_llm_cider_score')\n",
    "    manifest_genenerator.set_ait_description('LLMモデルで問題領域の質問に対して回答し、その生成されたテキストの品質を評価します。LLM評価基準を用いて、回答テキストのCIDErスコアを計算し、テキストの質を数値化します。')\n",
    "    manifest_genenerator.set_ait_source_repository('https://github.com/aistairc/Qunomon_AIT_eval_llm_cider_score')\n",
    "    manifest_genenerator.set_ait_version('1.0')\n",
    "    manifest_genenerator.add_ait_licenses('Apache License Version 2.0')\n",
    "    manifest_genenerator.add_ait_keywords('LLM')\n",
    "    manifest_genenerator.add_ait_keywords('CIDEr')\n",
    "    manifest_genenerator.set_ait_quality('https://ait-hub.pj.aist.go.jp/ait-hub/api/0.0.1/qualityDimensions/機械学習品質マネジメントガイドライン第三版/C-1機械学習モデルの正確性')\n",
    "    inventory_requirement_data = manifest_genenerator.format_ait_inventory_requirement(format_=['json'])\n",
    "    manifest_genenerator.add_ait_inventories(name='question_data', \n",
    "                                              type_='dataset', \n",
    "                                              description='質問と回答のペアを含むデータセット \\nJSON形式{inputs:array, ground_truth:array}\\n例：{inputs: [MLflowとは？], ground_truth: [MLflowは、機械学習ライフサイクルを管理するオープンプラットフォーム]}', \n",
    "                                              requirement=inventory_requirement_data)\n",
    "    inventory_requirement_model = manifest_genenerator.format_ait_inventory_requirement(format_=['ALL'])\n",
    "    manifest_genenerator.add_ait_inventories(name='llm_model_dir', \n",
    "                                              type_='model', \n",
    "                                              description='事前にトレーニング済みの大規模言語モデルと、そのモデルの設定ファイルを保存したディレクトリ\\n 例:T5, GPT-3\\n モデルファイルは、config.json, model.safetensors, generation_config.json, special_tokens_map.json, tokenizer_config.json, tokenizer.jsonを含む', \n",
    "                                              requirement=inventory_requirement_model)\n",
    "    manifest_genenerator.add_ait_measures(name='CIDEr_Score', \n",
    "                                           type_='float', \n",
    "                                           description='計算されたCIDErスコア', \n",
    "                                           structure='single',\n",
    "                                           min='0')\n",
    "    manifest_genenerator.add_ait_resources(name='sample_data_csv',  \n",
    "                                           type_='table', \n",
    "                                           description='Perplexityスコアが最も低い10セットのデータサンプル')\n",
    "    manifest_genenerator.add_ait_downloads(name='Log', \n",
    "                                            description='AIT実行ログ')\n",
    "    manifest_genenerator.add_ait_downloads(name='eval_result', \n",
    "                                            description='実行結果を示すCSVファイル。以下の項目を含む\\n inputs:モデルに入力されたデータ\\n predictions:モデルが生成した予測結果\\n ground_truth:期待される正解データ\\n CIDEr_score:CIDErスコア')\n",
    "    manifest_path = manifest_genenerator.write()"
   ]
  },
  {
   "cell_type": "markdown",
   "metadata": {
    "deletable": false,
    "editable": false
   },
   "source": [
    "### #6 Prepare for the Input"
   ]
  },
  {
   "cell_type": "markdown",
   "metadata": {
    "deletable": false,
    "editable": false
   },
   "source": [
    "[required]"
   ]
  },
  {
   "cell_type": "code",
   "execution_count": 9,
   "metadata": {},
   "outputs": [],
   "source": [
    "if not is_ait_launch:\n",
    "    from ait_sdk.common.files.ait_input_generator import AITInputGenerator\n",
    "    input_generator = AITInputGenerator(manifest_path)\n",
    "    input_generator.add_ait_inventories(name='question_data',\n",
    "                                     value='question_data.json')\n",
    "    input_generator.add_ait_inventories(name='llm_model_dir',\n",
    "                                     value='model')\n",
    "    input_generator.write()"
   ]
  },
  {
   "cell_type": "markdown",
   "metadata": {
    "deletable": false,
    "editable": false
   },
   "source": [
    "### #7 Initialization"
   ]
  },
  {
   "cell_type": "markdown",
   "metadata": {
    "deletable": false,
    "editable": false
   },
   "source": [
    "[uneditable]"
   ]
  },
  {
   "cell_type": "code",
   "execution_count": 10,
   "metadata": {
    "deletable": false,
    "editable": false
   },
   "outputs": [],
   "source": [
    "logger = get_logger()\n",
    "\n",
    "ait_manifest = AITManifest()\n",
    "ait_input = AITInput(ait_manifest)\n",
    "ait_output = AITOutput(ait_manifest)\n",
    "\n",
    "if is_ait_launch:\n",
    "    # launch from AIT\n",
    "    current_dir = path.dirname(path.abspath(__file__))\n",
    "    path_helper = AITPathHelper(argv=sys.argv, ait_input=ait_input, ait_manifest=ait_manifest, entry_point_dir=current_dir)\n",
    "else:\n",
    "    # launch from jupyter notebook\n",
    "    # ait.input.json make in input_dir\n",
    "    input_dir = '/usr/local/qai/mnt/ip/job_args/1/1'\n",
    "    current_dir = %pwd\n",
    "    path_helper = AITPathHelper(argv=['', input_dir], ait_input=ait_input, ait_manifest=ait_manifest, entry_point_dir=current_dir)\n",
    "\n",
    "ait_input.read_json(path_helper.get_input_file_path())\n",
    "ait_manifest.read_json(path_helper.get_manifest_file_path())\n",
    "\n",
    "### do not edit cell"
   ]
  },
  {
   "cell_type": "markdown",
   "metadata": {
    "deletable": false,
    "editable": false
   },
   "source": [
    "### #8 Function definitions"
   ]
  },
  {
   "cell_type": "markdown",
   "metadata": {
    "deletable": false,
    "editable": false
   },
   "source": [
    "[required]"
   ]
  },
  {
   "cell_type": "code",
   "execution_count": 11,
   "metadata": {},
   "outputs": [],
   "source": [
    "@log(logger)\n",
    "@measures(ait_output, 'CIDEr_Score')\n",
    "def output_score(cider_score):\n",
    "    return cider_score"
   ]
  },
  {
   "cell_type": "code",
   "execution_count": 12,
   "metadata": {},
   "outputs": [],
   "source": [
    "@log(logger)\n",
    "@downloads(ait_output, path_helper, 'eval_result', 'eval_result.csv')\n",
    "def eval_result(eval_table, file_path: str=None) -> str:    \n",
    "    eval_table.to_csv(file_path, index=False)"
   ]
  },
  {
   "cell_type": "code",
   "execution_count": 13,
   "metadata": {},
   "outputs": [],
   "source": [
    "@log(logger)\n",
    "@resources(ait_output, path_helper, 'sample_data_csv', 'sample_data_csv.csv')\n",
    "def save_sample_data_csv(df, file_path: str=None) -> None:\n",
    "    df.to_csv(file_path)"
   ]
  },
  {
   "cell_type": "code",
   "execution_count": 14,
   "metadata": {},
   "outputs": [],
   "source": [
    "@log(logger)\n",
    "@downloads(ait_output, path_helper, 'Log', 'ait.log')\n",
    "def move_log(file_path: str=None) -> str:\n",
    "    shutil.move(get_log_path(), file_path)"
   ]
  },
  {
   "cell_type": "code",
   "execution_count": 15,
   "metadata": {},
   "outputs": [],
   "source": [
    "# CIDErスコアを計算\n",
    "def calculate_cider_score(generated, references):\n",
    "    # CIDErスコアの辞書形式変換\n",
    "    res = {idx: [gen] for idx, gen in enumerate(generated)}\n",
    "    gts = {idx: refs for idx, refs in enumerate(references)}\n",
    "    \n",
    "    # CIDErスコア計算\n",
    "    cider_scorer = Cider()\n",
    "    mean_score, scores = cider_scorer.compute_score(gts, res)\n",
    "    \n",
    "    return mean_score, scores"
   ]
  },
  {
   "cell_type": "markdown",
   "metadata": {
    "deletable": false,
    "editable": false
   },
   "source": [
    "### #9 Main Algorithms"
   ]
  },
  {
   "cell_type": "markdown",
   "metadata": {
    "deletable": false,
    "editable": false
   },
   "source": [
    "[required]"
   ]
  },
  {
   "cell_type": "code",
   "execution_count": 16,
   "metadata": {},
   "outputs": [],
   "source": [
    "@log(logger)\n",
    "@ait_main(ait_output, path_helper, is_ait_launch)\n",
    "def main() -> None:\n",
    "    # 並列処理の警告を抑制\n",
    "    os.environ[\"TOKENIZERS_PARALLELISM\"] = \"false\"\n",
    "\n",
    "    with open(ait_input.get_inventory_path('question_data'), \"r\") as file:\n",
    "        json_data = json.load(file)\n",
    "\n",
    "    eval_data = pd.DataFrame(json_data)\n",
    "    \n",
    "    # ローカルに保存されたLLMモデルを読み込む\n",
    "    tokenizer_path = ait_input.get_inventory_path('llm_model_dir')\n",
    "    model_path = ait_input.get_inventory_path('llm_model_dir')\n",
    "    \n",
    "    # Transformers を使用してモデルとトークナイザをロード\n",
    "    tokenizer = AutoTokenizer.from_pretrained(tokenizer_path)\n",
    "    model = AutoModelForSeq2SeqLM.from_pretrained(model_path)\n",
    "\n",
    "    # パイプラインの作成\n",
    "    device = 0 if torch.cuda.is_available() else -1  # GPUが利用可能なら0、そうでなければ-1（CPU）\n",
    "    text2text_pipeline = pipeline(\"text2text-generation\", model=model, tokenizer=tokenizer, device=device)\n",
    "\n",
    "    # モデルの予測関数\n",
    "    def predict(inputs):\n",
    "        outputs = text2text_pipeline(\n",
    "            inputs,\n",
    "            max_new_tokens=100,\n",
    "            num_beams=5,\n",
    "            temperature=0.7,\n",
    "            truncation=True\n",
    "        )\n",
    "        return outputs[0][\"generated_text\"]\n",
    "\n",
    "    # 予測値を計算してデータに追加\n",
    "    eval_data[\"predictions\"] = eval_data[\"inputs\"].apply(predict)\n",
    "\n",
    "    # 予測結果とリファレンスの準備\n",
    "    generated_texts = eval_data[\"predictions\"].tolist()\n",
    "    reference_texts = eval_data[\"ground_truth\"].apply(lambda x: [x]).tolist()  # ground_truthをリスト形式で扱う\n",
    "    \n",
    "    # CIDErスコアを計算\n",
    "    mean_score, scores = calculate_cider_score(generated_texts, reference_texts)\n",
    "\n",
    "    # スコアの結果を表示\n",
    "    output_score(mean_score)\n",
    "    print(f\"Mean CIDEr Score: {mean_score}\")\n",
    "    print(f\"\\nIndividual CIDEr Scores: {scores}\")\n",
    "\n",
    "    # 評価結果を表示\n",
    "    eval_data[\"CIDEr_score\"] = scores\n",
    "    print(f\"See aggregated evaluation results below: \\n{eval_data}\")\n",
    "    eval_result(eval_data)\n",
    "    \n",
    "    # CIDErスコアで昇順にソートし、上位10行を取得\n",
    "    sorted_df = eval_data.sort_values(by=\"CIDEr_score\", ascending=True).head(10)\n",
    "    save_sample_data_csv(sorted_df)\n",
    "            \n",
    "    # AIT実行ログ出力\n",
    "    move_log()"
   ]
  },
  {
   "cell_type": "markdown",
   "metadata": {
    "deletable": false,
    "editable": false
   },
   "source": [
    "### #10 Entry point"
   ]
  },
  {
   "cell_type": "markdown",
   "metadata": {
    "deletable": false,
    "editable": false
   },
   "source": [
    "[uneditable]"
   ]
  },
  {
   "cell_type": "code",
   "execution_count": 17,
   "metadata": {
    "deletable": false,
    "editable": false
   },
   "outputs": [
    {
     "name": "stderr",
     "output_type": "stream",
     "text": [
      "/usr/local/lib/python3.9/site-packages/transformers/generation/configuration_utils.py:590: UserWarning: `do_sample` is set to `False`. However, `temperature` is set to `0.7` -- this flag is only used in sample-based generation modes. You should set `do_sample=True` or unset `temperature`.\n",
      "  warnings.warn(\n"
     ]
    },
    {
     "name": "stdout",
     "output_type": "stream",
     "text": [
      "Mean CIDEr Score: 1.1469510211070495\n",
      "\n",
      "Individual CIDEr Scores: [2.98921038 1.63663774 0.68949153 0.3549722  0.1906248  2.08501284\n",
      " 1.77479691 0.54846891 0.63070188 0.93811358 0.         0.61594928\n",
      " 2.73757323 2.31596915 0.83894336 1.08457015 0.69891517 1.30651368\n",
      " 1.10756906 0.88089716 2.98921038 0.94266771 0.72898339 0.85880706\n",
      " 0.47552079 2.56157791 0.85880706 1.47261291 0.75584194 0.84124169\n",
      " 0.92722757 0.77324236 0.65654316 0.74908839 1.17071246 0.54441532\n",
      " 0.66967566 2.48477089 0.84521214]\n",
      "See aggregated evaluation results below: \n",
      "                                               inputs  \\\n",
      "0   question: What is the speed of light? context:...   \n",
      "1   question: What is the boiling point of water? ...   \n",
      "2   question: How many minutes are there in an hou...   \n",
      "3   question: What is the distance from Earth to t...   \n",
      "4   question: How many days are there in a year? c...   \n",
      "5   question: What is the height of Mount Everest?...   \n",
      "6   question: What is the freezing point of water?...   \n",
      "7   question: How many planets are there in the So...   \n",
      "8   question: What is the population of the United...   \n",
      "9   question: How many bones are there in the huma...   \n",
      "10  question: What is the value of Pi? context: Pi...   \n",
      "11  question: How many grams are there in a kilogr...   \n",
      "12  question: What is the age of the Earth? contex...   \n",
      "13  question: How long is a marathon? context: A m...   \n",
      "14  question: What is the capacity of a standard O...   \n",
      "15  question: How many seconds are there in a day?...   \n",
      "16  question: What is the circumference of the Ear...   \n",
      "17  question: How many stars are in the Milky Way?...   \n",
      "18  question: What is the length of the Great Wall...   \n",
      "19  question: How many liters are there in a gallo...   \n",
      "20  question: What is the speed of sound? context:...   \n",
      "21  question: How many kilometers are in a mile? c...   \n",
      "22  question: How many countries are there in the ...   \n",
      "23  question: How many time zones are there? conte...   \n",
      "24  question: How much does the Earth weigh? conte...   \n",
      "25  question: What is the area of the Sahara Deser...   \n",
      "26  question: How many letters are in the English ...   \n",
      "27  question: What is the height of the Burj Khali...   \n",
      "28  question: How many kilometers is the Amazon Ri...   \n",
      "29  question: How many kilometers is a marathon? c...   \n",
      "30  question: How many hours are in a week? contex...   \n",
      "31  question: How many grams are in a ton? context...   \n",
      "32  question: What is the weight of the Eiffel Tow...   \n",
      "33  question: How many species of birds exist in t...   \n",
      "34  question: What is the average human body tempe...   \n",
      "35  question: How much does the Moon weigh? contex...   \n",
      "36  question: How many meters are there in a kilom...   \n",
      "37  question: What is the size of the Pacific Ocea...   \n",
      "38  question: How many millimeters are in a centim...   \n",
      "\n",
      "                                         ground_truth  \\\n",
      "0     Light travels at 299,792 kilometers per second.   \n",
      "1                 Water boils at 100 degrees Celsius.   \n",
      "2                    There are 60 minutes in an hour.   \n",
      "3   The distance from Earth to the Moon is 384,400...   \n",
      "4   A year has 365 days, except leap years with 36...   \n",
      "5                 Mount Everest is 8,848 meters tall.   \n",
      "6                 Water freezes at 0 degrees Celsius.   \n",
      "7            There are 8 planets in the Solar System.   \n",
      "8   The United States has a population of approxim...   \n",
      "9                       The human body has 206 bones.   \n",
      "10          The value of Pi is approximately 3.14159.   \n",
      "11               There are 1,000 grams in a kilogram.   \n",
      "12         The Earth is about 4.54 billion years old.   \n",
      "13              A marathon is 42.195 kilometers long.   \n",
      "14  An Olympic swimming pool holds about 2,500,000...   \n",
      "15                          A day has 86,400 seconds.   \n",
      "16    The Earth's circumference is 40,075 kilometers.   \n",
      "17    The Milky Way contains about 100 billion stars.   \n",
      "18  The Great Wall of China is 21,196 kilometers l...   \n",
      "19                  One gallon is about 3.785 liters.   \n",
      "20            Sound travels at 343 meters per second.   \n",
      "21        One mile is approximately 1.609 kilometers.   \n",
      "22              There are 195 countries in the world.   \n",
      "23                       The world has 24 time zones.   \n",
      "24    The Earth weighs about 5.972 × 10^24 kilograms.   \n",
      "25  The Sahara Desert spans 9.2 million square kil...   \n",
      "26               The English alphabet has 26 letters.   \n",
      "27               The Burj Khalifa is 828 meters tall.   \n",
      "28         The Amazon River is 6,992 kilometers long.   \n",
      "29        A marathon is officially 42.195 kilometers.   \n",
      "30                              A week has 168 hours.   \n",
      "31               A metric ton equals 1,000,000 grams.   \n",
      "32               The Eiffel Tower weighs 10,100 tons.   \n",
      "33           There are about 10,000 species of birds.   \n",
      "34  The human body temperature averages 37 degrees...   \n",
      "35            The Moon weighs 7.35 × 10^22 kilograms.   \n",
      "36             There are 1,000 meters in a kilometer.   \n",
      "37  The Pacific Ocean covers 168 million square ki...   \n",
      "38                   A centimeter has 10 millimeters.   \n",
      "\n",
      "                                       predictions  CIDEr_score  \n",
      "0                    299,792 kilometers per second     2.989210  \n",
      "1                              100 degrees Celsius     1.636638  \n",
      "2                                               60     0.689492  \n",
      "3                               384,400 kilometers     0.354972  \n",
      "4                                         365 days     0.190625  \n",
      "5                                     8,848 meters     2.085013  \n",
      "6                                0 degrees Celsius     1.774797  \n",
      "7                                                8     0.548469  \n",
      "8                                      331 million     0.630702  \n",
      "9                                              206     0.938114  \n",
      "10                                equal to 3.14159     0.000000  \n",
      "11                                           1,000     0.615949  \n",
      "12                          4.54 billion years old     2.737573  \n",
      "13                               42.195 kilometers     2.315969  \n",
      "14                                2,500,000 liters     0.838943  \n",
      "15                                          86,400     1.084570  \n",
      "16  approximately 40,075 kilometers at the equator     0.698915  \n",
      "17                                     100 billion     1.306514  \n",
      "18                               21,196 kilometers     1.107569  \n",
      "19                                           3.785     0.880897  \n",
      "20                           343 meters per second     2.989210  \n",
      "21                                           1.609     0.942668  \n",
      "22                                             195     0.728983  \n",
      "23                                              24     0.858807  \n",
      "24                           5.972  1024 kilograms     0.475521  \n",
      "25                   9.2 million square kilometers     2.561578  \n",
      "26                                              26     0.858807  \n",
      "27                                 828 meters tall     1.472613  \n",
      "28                                           6,992     0.755842  \n",
      "29                                          42.195     0.841242  \n",
      "30                                             168     0.927228  \n",
      "31                                       1,000,000     0.773242  \n",
      "32                       approximately 10,100 tons     0.656543  \n",
      "33                                          10,000     0.749088  \n",
      "34                       around 37 degrees Celsius     1.170712  \n",
      "35                            7.35  1022 kilograms     0.544415  \n",
      "36                                           1,000     0.669676  \n",
      "37                   168 million square kilometers     2.484771  \n",
      "38                                  10 millimeters     0.845212  \n"
     ]
    }
   ],
   "source": [
    "if __name__ == '__main__':\n",
    "    main()"
   ]
  },
  {
   "cell_type": "markdown",
   "metadata": {
    "deletable": false,
    "editable": false
   },
   "source": [
    "### #11 License"
   ]
  },
  {
   "cell_type": "markdown",
   "metadata": {
    "deletable": false,
    "editable": false
   },
   "source": [
    "[required]"
   ]
  },
  {
   "cell_type": "code",
   "execution_count": 18,
   "metadata": {},
   "outputs": [],
   "source": [
    "ait_owner='AIST'\n",
    "ait_creation_year='2024'"
   ]
  },
  {
   "cell_type": "markdown",
   "metadata": {
    "deletable": false,
    "editable": false
   },
   "source": [
    "### #12 Deployment"
   ]
  },
  {
   "cell_type": "markdown",
   "metadata": {
    "deletable": false,
    "editable": false
   },
   "source": [
    "[uneditable] "
   ]
  },
  {
   "cell_type": "code",
   "execution_count": 19,
   "metadata": {
    "deletable": false,
    "editable": false
   },
   "outputs": [],
   "source": [
    "if not is_ait_launch:\n",
    "    from ait_sdk.deploy import prepare_deploy\n",
    "    from ait_sdk.license.license_generator import LicenseGenerator\n",
    "    \n",
    "    current_dir = %pwd\n",
    "    prepare_deploy(ait_sdk_name, current_dir, requirements_path)\n",
    "    \n",
    "    # output License.txt\n",
    "    license_generator = LicenseGenerator()\n",
    "    license_generator.write('../top_dir/LICENSE.txt', ait_creation_year, ait_owner)\n"
   ]
  }
 ],
 "metadata": {
  "celltoolbar": "Edit Metadata",
  "kernelspec": {
   "display_name": "Python 3 (ipykernel)",
   "language": "python",
   "name": "python3"
  },
  "language_info": {
   "codemirror_mode": {
    "name": "ipython",
    "version": 3
   },
   "file_extension": ".py",
   "mimetype": "text/x-python",
   "name": "python",
   "nbconvert_exporter": "python",
   "pygments_lexer": "ipython3",
   "version": "3.9.13"
  },
  "vscode": {
   "interpreter": {
    "hash": "cc00c6a56d87bd8bd7773e730c60ddfdb8804da6b7537df09499efbcf81630f7"
   }
  }
 },
 "nbformat": 4,
 "nbformat_minor": 4
}
